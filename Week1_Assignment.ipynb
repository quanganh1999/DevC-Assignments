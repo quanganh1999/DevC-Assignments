{
  "nbformat": 4,
  "nbformat_minor": 0,
  "metadata": {
    "colab": {
      "name": "Week1_Assignment",
      "provenance": [],
      "collapsed_sections": [],
      "toc_visible": true
    },
    "kernelspec": {
      "name": "python3",
      "display_name": "Python 3"
    }
  },
  "cells": [
    {
      "cell_type": "markdown",
      "metadata": {
        "id": "K-UTH5d-XiQC",
        "colab_type": "text"
      },
      "source": [
        "#SQL\n"
      ]
    },
    {
      "cell_type": "markdown",
      "metadata": {
        "id": "WD0e6TnIW9Hu",
        "colab_type": "text"
      },
      "source": [
        "##Task 1\n",
        "Query all columns for a city in CITY with the ID 1661.\n",
        "\n",
        "Input Format\n",
        "\n",
        "The CITY table is described as follows: <br>\n",
        "<img src = \"https://s3.amazonaws.com/hr-challenge-images/8137/1449729804-f21d187d0f-CITY.jpg\">\n",
        "\n",
        "1.   List item\n",
        "2.   List item\n",
        "\n"
      ]
    },
    {
      "cell_type": "code",
      "metadata": {
        "id": "K4Bt1V9rW_KJ",
        "colab_type": "code",
        "colab": {}
      },
      "source": [
        "  SELECT * \n",
        "  FROM CITY\n",
        "  WHERE ID = 1661"
      ],
      "execution_count": null,
      "outputs": []
    },
    {
      "cell_type": "markdown",
      "metadata": {
        "id": "f6A9keYQXtfC",
        "colab_type": "text"
      },
      "source": [
        "##Task 2\n",
        "Query all columns for all American cities in CITY with populations larger than 100000. The CountryCode for America is USA.\n",
        "\n",
        "Input Format<br>\n",
        "<img src = \"https://s3.amazonaws.com/hr-challenge-images/8137/1449729804-f21d187d0f-CITY.jpg\">\n"
      ]
    },
    {
      "cell_type": "code",
      "metadata": {
        "id": "2AeLf7ooX7O-",
        "colab_type": "code",
        "colab": {}
      },
      "source": [
        "SELECT * \n",
        "FROM CITY\n",
        "WHERE COUNTRYCODE = \"USA\" AND POPULATION > 100000"
      ],
      "execution_count": null,
      "outputs": []
    },
    {
      "cell_type": "markdown",
      "metadata": {
        "id": "r69LByLtYCY0",
        "colab_type": "text"
      },
      "source": [
        "##Task 3\n",
        "Query all attributes of every Japanese city in the CITY table. The COUNTRYCODE for Japan is JPN.\n",
        "\n",
        "Input Format:<br>\n",
        "<img src = \"https://s3.amazonaws.com/hr-challenge-images/8137/1449729804-f21d187d0f-CITY.jpg\">"
      ]
    },
    {
      "cell_type": "code",
      "metadata": {
        "id": "olzcFs4-YVm6",
        "colab_type": "code",
        "colab": {}
      },
      "source": [
        "SELECT * \n",
        "FROM CITY\n",
        "WHERE COUNTRYCODE = \"JPN\""
      ],
      "execution_count": null,
      "outputs": []
    },
    {
      "cell_type": "markdown",
      "metadata": {
        "id": "kNb_l0BAYqQY",
        "colab_type": "text"
      },
      "source": [
        "##Task 4\n",
        "Query the names of all the Japanese cities in the CITY table. The COUNTRYCODE for Japan is JPN.\n",
        "\n",
        "Input Format<br>\n",
        "<img src = \"https://s3.amazonaws.com/hr-challenge-images/8137/1449729804-f21d187d0f-CITY.jpg\">\n"
      ]
    },
    {
      "cell_type": "code",
      "metadata": {
        "id": "SGkB1ac5Y8C2",
        "colab_type": "code",
        "colab": {}
      },
      "source": [
        "SELECT NAME\n",
        "FROM CITY\n",
        "WHERE COUNTRYCODE = \"JPN\""
      ],
      "execution_count": null,
      "outputs": []
    },
    {
      "cell_type": "markdown",
      "metadata": {
        "id": "G_YzuI-hZBeL",
        "colab_type": "text"
      },
      "source": [
        "##Task 5\n",
        "Query a list of CITY and STATE from the STATION table.\n",
        "\n",
        "Input Format\n",
        "\n",
        "The STATION table is described as follows:<br>\n",
        "<img src = 'https://s3.amazonaws.com/hr-challenge-images/9336/1449345840-5f0a551030-Station.jpg'>"
      ]
    },
    {
      "cell_type": "code",
      "metadata": {
        "id": "1WxKBKUOZNUQ",
        "colab_type": "code",
        "colab": {}
      },
      "source": [
        "SELECT CITY, STATE\n",
        "FROM STATION"
      ],
      "execution_count": null,
      "outputs": []
    },
    {
      "cell_type": "markdown",
      "metadata": {
        "id": "OqMKxr4hZSBn",
        "colab_type": "text"
      },
      "source": [
        "##Task 6\n",
        "Query a list of CITY names from STATION with even ID numbers only. You may print the results in any order, but must exclude duplicates from your answer.\n",
        "\n",
        "Input Format\n",
        "\n",
        "The STATION table is described as follows:<br>\n",
        "<img src =\"https://s3.amazonaws.com/hr-challenge-images/9336/1449345840-5f0a551030-Station.jpg\">\n"
      ]
    },
    {
      "cell_type": "code",
      "metadata": {
        "id": "OOF-_k34Zg3U",
        "colab_type": "code",
        "colab": {}
      },
      "source": [
        "SELECT DISTINCT CITY\n",
        "FROM STATE\n",
        "WHERE ID%2=0"
      ],
      "execution_count": null,
      "outputs": []
    },
    {
      "cell_type": "markdown",
      "metadata": {
        "id": "ZcN5Ns0fZnT9",
        "colab_type": "text"
      },
      "source": [
        "Let  be the number of CITY entries in STATION, and let  be the number of distinct CITY names in STATION; query the value of  from STATION. In other words, find the difference between the total number of CITY entries in the table and the number of distinct CITY entries in the table.\n",
        "\n",
        "Input Format\n",
        "\n",
        "The STATION table is described as follows:<br>\n",
        "<img src = \"https://s3.amazonaws.com/hr-challenge-images/9336/1449345840-5f0a551030-Station.jpg\"><br>\n",
        "where LAT_N is the northern latitude and LONG_W is the western longitude."
      ]
    },
    {
      "cell_type": "code",
      "metadata": {
        "id": "J8Hcjsl6lVW8",
        "colab_type": "code",
        "colab": {}
      },
      "source": [
        "#The Number of City entries\n",
        "SELECT COUNT(*)\n",
        "FROM STATION\n",
        "\n",
        "#The Number of distinct City names\n",
        "SELECT COUNT(*)\n",
        "FROM STATION\n",
        "GROUP BY CITY"
      ],
      "execution_count": null,
      "outputs": []
    },
    {
      "cell_type": "markdown",
      "metadata": {
        "id": "8fWTW_yflyCC",
        "colab_type": "text"
      },
      "source": [
        "##Task 7\n",
        "Query the two cities in STATION with the shortest and longest CITY names, as well as their respective lengths (i.e.: number of characters in the name). If there is more than one smallest or largest city, choose the one that comes first when ordered alphabetically.\n",
        "\n",
        "Input Format\n",
        "\n",
        "The STATION table is described as follows:<br>\n",
        "  <img src = \"https://s3.amazonaws.com/hr-challenge-images/9336/1449345840-5f0a551030-Station.jpg\">\n",
        "  "
      ]
    },
    {
      "cell_type": "code",
      "metadata": {
        "id": "zPqGViBgl4mL",
        "colab_type": "code",
        "colab": {}
      },
      "source": [
        "SELECT *\n",
        "FROM STATION\n",
        "WHERE ID IN   \n",
        "((SELECT ID\n",
        "FROM STATION    \n",
        "ORDER BY \n",
        "  LENGTH(CITY) ASC,\n",
        "  CITY COLLATE NOCASE ASC  \n",
        "LIMIT 1),\n",
        "(SELECT ID\n",
        "FROM STATION\n",
        "ORDER BY \n",
        "  LENGTH(CITY) DESC,\n",
        "  CITY COLLATE NOCASE ASC \n",
        "LIMIT 1))"
      ],
      "execution_count": null,
      "outputs": []
    },
    {
      "cell_type": "markdown",
      "metadata": {
        "id": "34DxPDy5l9N2",
        "colab_type": "text"
      },
      "source": [
        "##Task 8\n",
        "Query the list of CITY names starting with vowels (i.e., a, e, i, o, or u) from STATION. Your result cannot contain duplicates.\n",
        "\n",
        "Input Format\n",
        "\n",
        "The STATION table is described as follows: <br>\n",
        "<img src = \"https://s3.amazonaws.com/hr-challenge-images/9336/1449345840-5f0a551030-Station.jpg\" >\n"
      ]
    },
    {
      "cell_type": "code",
      "metadata": {
        "id": "RWRar3_emQ7Y",
        "colab_type": "code",
        "colab": {}
      },
      "source": [
        "SELECT DISTINCT CITY\n",
        "FROM SATION\n",
        "WHERE LOWER(SUBSTR(CITY, 1, 1)) IN (a,e,i,o,u)"
      ],
      "execution_count": null,
      "outputs": []
    },
    {
      "cell_type": "markdown",
      "metadata": {
        "id": "E1WTjlFPmTfp",
        "colab_type": "text"
      },
      "source": [
        "##Task 9\n",
        "Query the list of CITY names ending with vowels (a, e, i, o, u) from STATION. Your result cannot contain duplicates.\n",
        "\n",
        "Input Format\n",
        "\n",
        "The STATION table is described as follows:<br>\n",
        "<img src =\"https://s3.amazonaws.com/hr-challenge-images/9336/1449345840-5f0a551030-Station.jpg\">\n"
      ]
    },
    {
      "cell_type": "code",
      "metadata": {
        "id": "wQ7n53Lwmp1Z",
        "colab_type": "code",
        "colab": {}
      },
      "source": [
        "SELECT DISTINCT CITY\n",
        "FROM SATION\n",
        "WHERE LOWER(SUBSTR(CITY, 1, 1)) IN (a,e,i,o,u)"
      ],
      "execution_count": null,
      "outputs": []
    },
    {
      "cell_type": "markdown",
      "metadata": {
        "id": "bNSYroclmsPI",
        "colab_type": "text"
      },
      "source": [
        "##Task 10\n",
        "Query the list of CITY names from STATION which have vowels (i.e., a, e, i, o, and u) as both their first and last characters. Your result cannot contain duplicates.\n",
        "\n",
        "Input Format\n",
        "\n",
        "The STATION table is described as follows:<br>\n",
        "<img src =\"https://s3.amazonaws.com/hr-challenge-images/9336/1449345840-5f0a551030-Station.jpg\">"
      ]
    },
    {
      "cell_type": "code",
      "metadata": {
        "id": "PQZ0Tecam6hD",
        "colab_type": "code",
        "colab": {}
      },
      "source": [
        "SELECT DISTINCT CITY\n",
        "FROM SATION\n",
        "WHERE LOWER(SUBSTR(CITY, LENGTH(CITY), 1)) IN (a,e,i,o,u)"
      ],
      "execution_count": null,
      "outputs": []
    },
    {
      "cell_type": "markdown",
      "metadata": {
        "id": "DJT7d3P6nJx9",
        "colab_type": "text"
      },
      "source": [
        "#Python"
      ]
    },
    {
      "cell_type": "markdown",
      "metadata": {
        "id": "6IwVOztbngOn",
        "colab_type": "text"
      },
      "source": [
        "##Task 1\n",
        "Task\n",
        "Given an integer, perform the following conditional actions:\n",
        "\n",
        "* If n is odd, print `Weird`\n",
        "* If n is even and in the inclusive range of 2 to 5, print `Not Weird`\n",
        "* If n is even and in the inclusive range of 6 to 20, print `Weird`\n",
        "* If n is even and greater than 20, print `Not Weird`\n",
        "\n",
        "Input Format\n",
        "\n",
        "A single line containing a positive integer\n",
        "\n",
        "Output Format\n",
        "\n",
        "Print Weird if the number is weird; otherwise, print Not Weird."
      ]
    },
    {
      "cell_type": "code",
      "metadata": {
        "id": "1BfL6RuLoXFl",
        "colab_type": "code",
        "colab": {
          "base_uri": "https://localhost:8080/",
          "height": 54
        },
        "outputId": "5551b0b3-6d94-4de1-98ff-2874450a5b3c"
      },
      "source": [
        "if __name__ == '__main__':\n",
        "    n = int(input())\n",
        "    # your code here\n",
        "    if (n%2):\n",
        "      print(\"Weird\")\n",
        "    elif (n in range(6,21)):\n",
        "      print(\"Weird\")\n",
        "    else:\n",
        "      print(\"Not Weird\")"
      ],
      "execution_count": 3,
      "outputs": [
        {
          "output_type": "stream",
          "text": [
            "22\n",
            "Not Weird\n"
          ],
          "name": "stdout"
        }
      ]
    },
    {
      "cell_type": "markdown",
      "metadata": {
        "id": "ZozvHrq_o3VH",
        "colab_type": "text"
      },
      "source": [
        "##Task 2\n",
        "Read two integers from STDIN and print three lines where:\n",
        "<ol>\n",
        "  <li>The first line contains the sum of the two numbers.</li>\n",
        "  <li>The second line contains the difference of the two numbers (first - second).</li>\n",
        "  <li>The third line contains the product of the two numbers.</li>\n",
        "</ol>\n",
        "\n",
        "**Input Format**\n",
        "\n",
        "The first line contains the first integer, **a**. The second line contains the second integer, **b**.\n",
        "\n",
        "**Output Format**\n",
        "\n",
        "Print the three lines as explained above."
      ]
    },
    {
      "cell_type": "code",
      "metadata": {
        "id": "W59QuFDUp8A6",
        "colab_type": "code",
        "colab": {
          "base_uri": "https://localhost:8080/",
          "height": 108
        },
        "outputId": "2b3a46e9-f6e9-41da-d7f1-ae34f697aea1"
      },
      "source": [
        "if __name__ == '__main__':\n",
        "    a = int(input())\n",
        "    b = int(input())\n",
        "    # your code here\n",
        "    print(f\"Sum: {a+b}\")\n",
        "    print(f\"Difference: {a-b}\")\n",
        "    print(f\"Product: {a*b}\")"
      ],
      "execution_count": 5,
      "outputs": [
        {
          "output_type": "stream",
          "text": [
            "2\n",
            "5\n",
            "Sum: 7\n",
            "Difference: -3\n",
            "Product: 10\n"
          ],
          "name": "stdout"
        }
      ]
    },
    {
      "cell_type": "markdown",
      "metadata": {
        "id": "nRtP3Qt4qWPW",
        "colab_type": "text"
      },
      "source": [
        "#Task 3\n",
        "Task\n",
        "Read an integer $N$. For all non-negative integers $i<N$ , print $i^{2}$. See the sample for details.\n",
        "\n",
        "Input Format\n",
        "\n",
        "The first and only line contains the integer, $N$ .\n",
        "\n",
        "Constraints<br>\n",
        "$1 \\leq N \\leq i$\n",
        "\n",
        "Output Format\n",
        "\n",
        "Print $N$ lines, one corresponding to each $i$."
      ]
    },
    {
      "cell_type": "code",
      "metadata": {
        "id": "vwwkRd5kqPt6",
        "colab_type": "code",
        "colab": {
          "base_uri": "https://localhost:8080/",
          "height": 108
        },
        "outputId": "91b22527-15d1-479b-90b2-f7b6b6e56dca"
      },
      "source": [
        "if __name__ == '__main__':\n",
        "    n = int(input())\n",
        "    # your code here\n",
        "    for i in range(1, n):\n",
        "      print(i*i)"
      ],
      "execution_count": 6,
      "outputs": [
        {
          "output_type": "stream",
          "text": [
            "5\n",
            "1\n",
            "4\n",
            "9\n",
            "16\n"
          ],
          "name": "stdout"
        }
      ]
    },
    {
      "cell_type": "markdown",
      "metadata": {
        "id": "6dXblWaxrpaA",
        "colab_type": "text"
      },
      "source": [
        "##Task 4\n",
        "We add a Leap Day on February 29, almost every four years. The leap day is an extra, or intercalary day and we add it to the shortest month of the year, February.<br>\n",
        "\n",
        "In the Gregorian calendar three criteria must be taken into account to identify leap years:\n",
        "<ul>\n",
        "<li>The year can be evenly divided by 4, is a leap year, unless:</li>\n",
        "  <ul><li>The year can be evenly divided by 100, it is NOT a leap year, unless:</li>\n",
        "    <ul><li>The year is also evenly divisible by 400. Then it is a leap year.</li></ul></ul></ul>\n",
        "This means that in the Gregorian calendar, the years 2000 and 2400 are leap years, while 1800, 1900, 2100, 2200, 2300 and 2500 are NOT leap years.Source\n",
        "\n",
        "**Task**<br>\n",
        "<ul>\n",
        "<li>You are given the year, and you have to write a function to check if the year is leap or not.</li>\n",
        "\n",
        "  <li>Note that you have to complete the function and remaining code is given as template.</li>\n",
        "  </ul>\n",
        "\n",
        "**Input Format**\n",
        "\n",
        "Read y, the year that needs to be checked.\n",
        "\n",
        "**Constraints**<br>\n",
        "$1900 \\leq y \\leq 10^{5}$\n",
        "\n",
        "**Output Format**\n",
        "\n",
        "Output is taken care of by the template. Your function must return a boolean value (True/False)\n",
        "\n"
      ]
    },
    {
      "cell_type": "code",
      "metadata": {
        "id": "8W6xXR9NtrUL",
        "colab_type": "code",
        "colab": {
          "base_uri": "https://localhost:8080/",
          "height": 35
        },
        "outputId": "0869e855-0dc1-4640-fa20-b39dca906dd5"
      },
      "source": [
        "def is_leap(year):  \n",
        "  if (year%4):\n",
        "    return False\n",
        "  elif (year%100 == 0 and year%400 != 0):\n",
        "    return False\n",
        "  else:\n",
        "    return True\n",
        "\n",
        "is_leap(2000)  "
      ],
      "execution_count": 8,
      "outputs": [
        {
          "output_type": "execute_result",
          "data": {
            "text/plain": [
              "True"
            ]
          },
          "metadata": {
            "tags": []
          },
          "execution_count": 8
        }
      ]
    },
    {
      "cell_type": "markdown",
      "metadata": {
        "id": "B2WQ4__LrpBZ",
        "colab_type": "text"
      },
      "source": [
        "##Task 5\n",
        "Given the participants' score sheet for your University Sports Day, you are required to find the runner-up score. You are given $n$ scores. Store them in a list and find the score of the runner-up.\n",
        "\n",
        "**Input Format**\n",
        "\n",
        "The first line contains $n$ . The second line contains an array $A[]$ of $n$ integers each separated by a space.\n",
        "\n",
        "**Constraints**<br>\n",
        "$2   \\leq n \\leq 10 $<br>\n",
        "$-100 \\leq A[i] \\leq 100 $\n",
        "\n",
        "Output Format\n",
        "\n",
        "Print the runner-up score."
      ]
    },
    {
      "cell_type": "code",
      "metadata": {
        "id": "xp0z6_EEuwFI",
        "colab_type": "code",
        "colab": {
          "base_uri": "https://localhost:8080/",
          "height": 72
        },
        "outputId": "766a8be0-4309-4e72-bb2f-bdd2b43c3156"
      },
      "source": [
        "if __name__ == '__main__':\n",
        "  n = int(input())  \n",
        "  # your code here\n",
        "  A = list(int(num) for num in input(\"Enter the list numbers separated by space \").strip().split())[:n]  \n",
        "  index_max = A.index(max(A))\n",
        "  print(max(A[:index_max] + A[index_max+1:]))"
      ],
      "execution_count": 15,
      "outputs": [
        {
          "output_type": "stream",
          "text": [
            "5\n",
            "Enter the list numbers separated by space 0 2 3 4 1\n",
            "3\n"
          ],
          "name": "stdout"
        }
      ]
    },
    {
      "cell_type": "code",
      "metadata": {
        "id": "DTpZjrKkM0ZZ",
        "colab_type": "code",
        "colab": {}
      },
      "source": [
        ""
      ],
      "execution_count": null,
      "outputs": []
    }
  ]
}